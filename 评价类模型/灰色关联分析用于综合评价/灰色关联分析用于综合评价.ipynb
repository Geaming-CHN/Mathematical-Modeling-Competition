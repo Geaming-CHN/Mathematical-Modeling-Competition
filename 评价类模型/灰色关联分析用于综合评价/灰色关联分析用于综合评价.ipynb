{
 "cells": [],
 "metadata": {
  "kernelspec": {
   "display_name": "Python 3.8.13 ('0')",
   "language": "python",
   "name": "python3"
  },
  "language_info": {
   "codemirror_mode": {
    "name": "ipython",
    "version": 3
   },
   "file_extension": ".py",
   "mimetype": "text/x-python",
   "name": "python",
   "nbconvert_exporter": "python",
   "pygments_lexer": "ipython3",
   "version": "3.8.13"
  },
  "orig_nbformat": 4,
  "vscode": {
   "interpreter": {
    "hash": "d50b75da2fa508607292c667347718eaf5d28f809d789076b2261c60395b54a0"
   }
  }
 },
 "nbformat": 4,
 "nbformat_minor": 2
}
