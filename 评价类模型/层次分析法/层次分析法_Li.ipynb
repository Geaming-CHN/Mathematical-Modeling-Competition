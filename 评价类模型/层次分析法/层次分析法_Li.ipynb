{
 "cells": [
  {
   "cell_type": "code",
   "execution_count": 123,
   "metadata": {},
   "outputs": [],
   "source": [
    "\"\"\"\n",
    "层次分析法\n",
    "\"\"\"\n",
    "import numpy as np\n",
    "import typing as ty\n"
   ]
  },
  {
   "cell_type": "code",
   "execution_count": 124,
   "metadata": {},
   "outputs": [],
   "source": [
    "A = np.array([[1,1/2,4,3,3],[2,1,7,5,5],[1/4,1/7,1,1/2,1/3],[1/3,1/5,2,1,1],[1/3,1/5,3,1,1]])\n",
    "HuaFei = np.array([[1,1/3,1/8],[3,1,1/3],[8,3,1]])\n",
    "JuZhu = np.array([[1,1,3],[1,1,3],[1/3,1/3,1]])\n",
    "YinShi = np.array([[1,3,4],[1/3,1,1],[1/4,1,1]])\n",
    "JiaoTong = np.array([[1,1,1/4],[1,1,1/4],[4,4,1]])\n",
    "JingSe = np.array([[1,2,5],[1/2,1,2],[1/5,1/2,1]])"
   ]
  },
  {
   "cell_type": "code",
   "execution_count": 125,
   "metadata": {},
   "outputs": [
    {
     "name": "stdout",
     "output_type": "stream",
     "text": [
      "A:矩阵的CI:(0.018021102142554035+0j),CR:(0.014302462017900027+0j)--->通过一致性检验\n",
      "HuaFei:矩阵的CI:(0.0007708125321126413+0j),CR:(0.0008660814967557768+0j)--->通过一致性检验\n",
      "JuZhu:矩阵的CI:-4.440892098500626e-16,CR:-4.989766402809693e-16--->通过一致性检验\n",
      "YinShi:矩阵的CI:(0.00460135635713943+0j),CR:(0.005170063322628573+0j)--->通过一致性检验\n",
      "JiaoTong:矩阵的CI:0.0,CR:0.0--->通过一致性检验\n",
      "JingSe:矩阵的CI:(0.0027675558692488167+0j),CR:(0.003109613336234626+0j)--->通过一致性检验\n"
     ]
    }
   ],
   "source": [
    "\"\"\"\n",
    "一致性检验\n",
    "\"\"\"\n",
    "RI=[0,0,0.52,0.89,1.12,1.26,1.36,1.41,1.46,1.49,1.52,1.54,1.56,1.58,1.59]\n",
    "def check_consistency(A:np.array):\n",
    "    eigenvalue, _ = np.linalg.eig(A)\n",
    "    CI = (max(eigenvalue)-A.shape[0])/(A.shape[0]-1)\n",
    "    CR = CI/RI[A.shape[0]]\n",
    "    print(f\"矩阵的CI:{CI},CR:{CR}\",end=\"--->\")\n",
    "    if(CR<0.1):\n",
    "        print(f\"通过一致性检验\")\n",
    "    else:\n",
    "        print(f\"不通过一致性检验\")\n",
    "\n",
    "print(\"A:\",end=\"\")\n",
    "check_consistency(A)\n",
    "print(\"HuaFei:\",end=\"\")\n",
    "check_consistency(HuaFei)\n",
    "print(\"JuZhu:\",end=\"\")\n",
    "check_consistency(JuZhu)\n",
    "print(\"YinShi:\",end=\"\")\n",
    "check_consistency(YinShi)\n",
    "print(\"JiaoTong:\",end=\"\")\n",
    "check_consistency(JiaoTong)\n",
    "print(\"JingSe:\",end=\"\")\n",
    "check_consistency(JingSe)"
   ]
  },
  {
   "cell_type": "code",
   "execution_count": 126,
   "metadata": {},
   "outputs": [
    {
     "name": "stdout",
     "output_type": "stream",
     "text": [
      "[0.59488796 0.27661064 0.1285014 ]\n",
      "[0.59537902 0.27635046 0.12827052]\n",
      "[0.59537902 0.27635046 0.12827052]\n"
     ]
    }
   ],
   "source": [
    "\"\"\"\n",
    "判别矩阵求权重\n",
    "\"\"\"\n",
    "def method1(V:np.array):\n",
    "    \"\"\"算术平均法\"\"\"\n",
    "    A = np.copy(V)\n",
    "    # print(\"算术平均法:\",end=\"\")\n",
    "    tmp = np.sum(A,axis=0)\n",
    "    for i in range(A.shape[0]):\n",
    "        for j in range(A.shape[1]):\n",
    "            A[i][j] /= tmp[j]\n",
    "    B = np.sum(A,axis=1)\n",
    "    B /= A.shape[0]\n",
    "    return(B)\n",
    "\n",
    "def method2(V:np.array):\n",
    "    \"\"\"几何平均法\"\"\"\n",
    "    A = np.copy(V)\n",
    "    # print(\"几何平均法:\",end=\"\")\n",
    "    tmp = []\n",
    "    FenMu = 0\n",
    "    for i in range(A.shape[0]):\n",
    "        mat=1\n",
    "        for j in range(A.shape[1]):\n",
    "            mat*=A[i][j]\n",
    "        FenMu+=mat**(1/A.shape[0])\n",
    "        tmp.append(mat**(1/A.shape[0]))\n",
    "    tmp/=FenMu\n",
    "    return(tmp)\n",
    "\n",
    "def method3(V:np.array):\n",
    "    \"\"\"特征值法\"\"\"\n",
    "    A = np.copy(V)\n",
    "    # print(\"特征值法:\",end=\"\")\n",
    "    B = np.linalg.eig(A)\n",
    "    index = np.argmax(B[0])\n",
    "    lamda_max = np.real(B[0][index])\n",
    "    vector = B[1][:,index]\n",
    "    vector_final = np.transpose((np.real(vector)))\n",
    "    # print(f'最大特征值为：{lamda_max}\\n        对应的特征向量：{vector_final}')\n",
    "    return(vector_final/np.sum(vector_final))\n",
    "print(method1(JingSe))\n",
    "print(method2(JingSe))\n",
    "print(method3(JingSe))"
   ]
  },
  {
   "cell_type": "code",
   "execution_count": 127,
   "metadata": {},
   "outputs": [
    {
     "name": "stdout",
     "output_type": "stream",
     "text": [
      "[0.59537902 0.08193475 0.42857143 0.63370792 0.16666667]\n",
      "[0.27635046 0.2363407  0.42857143 0.19192062 0.16666667]\n",
      "[0.12827052 0.68172455 0.14285714 0.17437146 0.66666667]\n"
     ]
    }
   ],
   "source": [
    "\"\"\"\n",
    "汇总结果得到权重矩阵\n",
    "\"\"\"\n",
    "method3(A)\n",
    "SuHang = []\n",
    "BeiDaiHe = []\n",
    "GuiLin = []\n",
    "SuHang.append(method3(JingSe)[0])\n",
    "SuHang.append(method3(HuaFei)[0])\n",
    "SuHang.append(method3(JuZhu)[0])\n",
    "SuHang.append(method3(YinShi)[0])\n",
    "SuHang.append(method3(JiaoTong)[0])\n",
    "BeiDaiHe.append(method3(JingSe)[1])\n",
    "BeiDaiHe.append(method3(HuaFei)[1])\n",
    "BeiDaiHe.append(method3(JuZhu)[1])\n",
    "BeiDaiHe.append(method3(YinShi)[1])\n",
    "BeiDaiHe.append(method3(JiaoTong)[1])\n",
    "GuiLin.append(method3(JingSe)[2])\n",
    "GuiLin.append(method3(HuaFei)[2])\n",
    "GuiLin.append(method3(JuZhu)[2])\n",
    "GuiLin.append(method3(YinShi)[2])\n",
    "GuiLin.append(method3(JiaoTong)[2])\n",
    "SuHang = np.array(SuHang)\n",
    "BeiDaiHe = np.array(BeiDaiHe)\n",
    "GuiLin = np.array(GuiLin)\n",
    "print(SuHang)\n",
    "print(BeiDaiHe)\n",
    "print(GuiLin)\n"
   ]
  },
  {
   "cell_type": "code",
   "execution_count": 128,
   "metadata": {},
   "outputs": [
    {
     "name": "stdout",
     "output_type": "stream",
     "text": [
      "0.2992545297453049\n",
      "0.24530398001537007\n",
      "0.4554414902393249\n"
     ]
    }
   ],
   "source": [
    "\"\"\"\n",
    "计算各个方案得分\n",
    "\"\"\"\n",
    "print(method3(A)@SuHang)\n",
    "print(method3(A)@BeiDaiHe)\n",
    "print(method3(A)@GuiLin)"
   ]
  }
 ],
 "metadata": {
  "interpreter": {
   "hash": "5507c1c4e465d3ebda1ece916a05a19b9b90796f19ca898308fbb6f61a8d74b8"
  },
  "kernelspec": {
   "display_name": "Python 3.8.13 ('0')",
   "language": "python",
   "name": "python3"
  },
  "language_info": {
   "codemirror_mode": {
    "name": "ipython",
    "version": 3
   },
   "file_extension": ".py",
   "mimetype": "text/x-python",
   "name": "python",
   "nbconvert_exporter": "python",
   "pygments_lexer": "ipython3",
   "version": "3.8.13"
  },
  "orig_nbformat": 4
 },
 "nbformat": 4,
 "nbformat_minor": 2
}
