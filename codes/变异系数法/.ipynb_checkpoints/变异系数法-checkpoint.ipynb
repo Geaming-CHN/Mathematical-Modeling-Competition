{
 "cells": [
  {
   "cell_type": "markdown",
   "id": "44612f28",
   "metadata": {},
   "source": [
    "# 变异系数法\n",
    "## 算法简介\n",
    "变异系数法也是用来赋权重的一种算法。前面一篇建模算法讲到熵权法，变异系数法和熵权法的思想很像，都是通过寻找数据本身的规律来赋权重的一种方法。\n",
    "\n",
    "变异系数法是一种利用被评价对象指标的变异程度确定指标权重的方法，可实现被评价对象各指标的动态赋权。指标的变异程度大，说明其在评价对象指标中的重要程度越高，应赋予较大的权重；反之则赋予较小的权重。"
   ]
  },
  {
   "cell_type": "markdown",
   "id": "5d681bf3",
   "metadata": {},
   "source": [
    "## 案例分析\n",
    "用一篇高引EI核心期刊为例, 对风电场运行情况进行综合评价。针对高频率穿越能力、低频率穿越能力、低压穿越能力、并网点电压偏差越限次数、SVC/SVG响应性能指标、有功控制能力、功率因素越限几个指标进行评价，为方便处理把这些指标依次设置为A~G。\n",
    "<table>\n",
    "<tr>\n",
    "  <th>指标</th>\n",
    "  <th>风场1</th>\n",
    "  <th>风场2</th>\n",
    "  <th>风场3</th>\n",
    "</tr>   \n",
    "<tr>\n",
    "    <td>A</td>\n",
    "    <td>0.743</td>\n",
    "    <td>0.7567</td>\n",
    "    <td>0.8104</td>\n",
    "    </tr>\n",
    "<tr>\n",
    "    <td>B</td>\n",
    "    <td>0.8267</td>\n",
    "    <td>0.8033</td>\n",
    "    <td>0.7667</td>\n",
    "    </tr>\n",
    "<tr>\n",
    "    <td>C</td>\n",
    "    <td>0.8324</td>\n",
    "    <td>0.8736</td>\n",
    "    <td>0.8539</td>\n",
    "    </tr>\n",
    "<tr>\n",
    "    <td>D</td>\n",
    "    <td>12</td>\n",
    "    <td>10</td>\n",
    "    <td>16</td>\n",
    "    </tr>\n",
    "<tr>\n",
    "    <td>E</td>\n",
    "    <td>0.8637</td>\n",
    "    <td>0.8538</td>\n",
    "    <td>0.9038</td>\n",
    "    </tr>\n",
    "<tr>\n",
    "    <td>F</td>\n",
    "    <td>0.0743</td>\n",
    "    <td>0.0665</td>\n",
    "    <td>0.0881</td>\n",
    "    </tr>\n",
    "<tr>\n",
    "    <td>G</td>\n",
    "    <td>0.0409</td>\n",
    "    <td>0.0716</td>\n",
    "    <td>0.0657</td>\n",
    "    </tr>\n",
    "</table>\n",
    "对风场1~3，针对A~G指标数据进行评价"
   ]
  },
  {
   "cell_type": "markdown",
   "id": "c83f4e78",
   "metadata": {},
   "source": [
    "## 原理分析\n",
    "1. 指标正向化：\n",
    "\n",
    "    和熵权法的指标正向化雷系，正向指标越大越好，负向指标越小越好。把指标都转化成正向指标处理。此篇采用新的正向化形式，采用上一篇建模算法熵权法的处理形式也可，基本思想不变就行。这个数据集有正向指标（越大越优型指标）和负向指标（越小越优型指标）两种。\n",
    "\n",
    "    设有$m$个待评对象，$n$个评价指标，可以构成数据矩阵$X=(x_{ij})_{m\\times n}$，设数据矩阵内元素$x_{ij}$，经过指标正向化处理过后的元素为$x_{ij}^{\\prime}$\n",
    "\n",
    "    - 负向指标：并网点电压偏差越限次数$D$、有功控制能力$F$、功率因数越限$G$属于此类指标：\n",
    "        $$x_{ij}^{\\prime}=\\frac{1}{k+\\mathrm{max}\\left |x_j\\right |+x_{ij}}$$\n",
    "        $K$一般取0.1\n",
    "    - 正向指标：其余所有指标属于此类，可以不用进行处理\n",
    "    $$x_{ij}^{\\prime} = x_{ij}$$\n",
    "2. 数据标准化：\n",
    "\n",
    "    每个指标的数量级不一样，需要把它们化到同一个范围内比较。上一篇建模算法用到了最大值最小值标准化方法。此篇可以用到一个新的标准化方法，处理如下：\n",
    "\n",
    "    设标准化后的数据矩阵元素为$r_{ij}$，由上可得指标正向化后数据矩阵元素为$x_{ij}^{\\prime}$\n",
    "    $$r_{ij}=\\frac{x_{ij}^{\\prime}}{\\sqrt{\\sum_{i=1}^m x_{ij}^{\\prime2}}}$$\n",
    "3. 计算变异系数\n",
    "    标准化处理过后可以构成数据矩阵$R=(r_{ij})_{m\\times n}$\n",
    "    计算指标的均值:\n",
    "    $$A_j=\\frac{1}{n}\\sum_{i=1}^{m}r_{ij}$$\n",
    "    计算指标的标准差：\n",
    "    $$S_j=\\sqrt{\\frac{1}{n}\\sum_{i=1}^{m}(r_{ij}-A)^2}$$\n",
    "    计算变异系数：\n",
    "    $$V_j = \\frac{S_j}{A_j}$$\n",
    "4. 计算权重\n",
    "    $$w_j=\\frac{V_j}{\\sum_{j=1}^nV_j}$$\n",
    "5. 计算得分\n",
    "    $$Score_i = \\sum_{j=1}^nw_jr_{ij}$$"
   ]
  },
  {
   "cell_type": "code",
   "execution_count": 1,
   "id": "9d363919",
   "metadata": {},
   "outputs": [],
   "source": [
    "import copy\n",
    "import pandas as pd\n",
    "import numpy as np"
   ]
  },
  {
   "cell_type": "code",
   "execution_count": 2,
   "id": "8db59cbd",
   "metadata": {},
   "outputs": [
    {
     "data": {
      "text/html": [
       "<div>\n",
       "<style scoped>\n",
       "    .dataframe tbody tr th:only-of-type {\n",
       "        vertical-align: middle;\n",
       "    }\n",
       "\n",
       "    .dataframe tbody tr th {\n",
       "        vertical-align: top;\n",
       "    }\n",
       "\n",
       "    .dataframe thead th {\n",
       "        text-align: right;\n",
       "    }\n",
       "</style>\n",
       "<table border=\"1\" class=\"dataframe\">\n",
       "  <thead>\n",
       "    <tr style=\"text-align: right;\">\n",
       "      <th></th>\n",
       "      <th>风场名</th>\n",
       "      <th>A（高频率穿越能力）</th>\n",
       "      <th>B（低频率穿越能力）</th>\n",
       "      <th>C（低压穿越能力）</th>\n",
       "      <th>D（并网点电压偏差越限次数 ）</th>\n",
       "      <th>E（SVC/SVG响应性能指标）</th>\n",
       "      <th>F（有功控制能力）</th>\n",
       "      <th>G（功率因素越限）</th>\n",
       "    </tr>\n",
       "  </thead>\n",
       "  <tbody>\n",
       "    <tr>\n",
       "      <th>0</th>\n",
       "      <td>风场1</td>\n",
       "      <td>0.7430</td>\n",
       "      <td>0.8267</td>\n",
       "      <td>0.8324</td>\n",
       "      <td>12</td>\n",
       "      <td>0.8637</td>\n",
       "      <td>0.0743</td>\n",
       "      <td>0.0409</td>\n",
       "    </tr>\n",
       "    <tr>\n",
       "      <th>1</th>\n",
       "      <td>风场2</td>\n",
       "      <td>0.7567</td>\n",
       "      <td>0.8033</td>\n",
       "      <td>0.8736</td>\n",
       "      <td>10</td>\n",
       "      <td>0.8538</td>\n",
       "      <td>0.0665</td>\n",
       "      <td>0.0716</td>\n",
       "    </tr>\n",
       "    <tr>\n",
       "      <th>2</th>\n",
       "      <td>风场3</td>\n",
       "      <td>0.8104</td>\n",
       "      <td>0.7667</td>\n",
       "      <td>0.8539</td>\n",
       "      <td>16</td>\n",
       "      <td>0.9038</td>\n",
       "      <td>0.0881</td>\n",
       "      <td>0.0657</td>\n",
       "    </tr>\n",
       "  </tbody>\n",
       "</table>\n",
       "</div>"
      ],
      "text/plain": [
       "   风场名  A（高频率穿越能力）  B（低频率穿越能力）  C（低压穿越能力）  D（并网点电压偏差越限次数 ）  E（SVC/SVG响应性能指标）  \\\n",
       "0  风场1      0.7430      0.8267     0.8324               12            0.8637   \n",
       "1  风场2      0.7567      0.8033     0.8736               10            0.8538   \n",
       "2  风场3      0.8104      0.7667     0.8539               16            0.9038   \n",
       "\n",
       "   F（有功控制能力）  G（功率因素越限）  \n",
       "0     0.0743     0.0409  \n",
       "1     0.0665     0.0716  \n",
       "2     0.0881     0.0657  "
      ]
     },
     "execution_count": 2,
     "metadata": {},
     "output_type": "execute_result"
    }
   ],
   "source": [
    "data=pd.read_excel('变异系数法.xlsx')\n",
    "data"
   ]
  },
  {
   "cell_type": "code",
   "execution_count": 4,
   "id": "5f726f5d",
   "metadata": {},
   "outputs": [],
   "source": [
    "# 数据正向化\n",
    "label_need = data.keys()[1:]\n",
    "data1 = data[label_need].values\n",
    "data2 = data1\n",
    "index = [3, 5, 6]  # 越小越优指标位置,注意python是从0开始计数，对应位置也要相应减1\n",
    "k = 0.1\n",
    "for i in range(0, len(index)):\n",
    "    data2[:, index[i]] = 1/(k+max(abs(data1[:, index[i]]))+data1[:, index[i]])"
   ]
  },
  {
   "cell_type": "code",
   "execution_count": 5,
   "id": "307c794e",
   "metadata": {},
   "outputs": [
    {
     "data": {
      "text/plain": [
       "array([[0.55668441, 0.59715567, 0.56309969, 0.58466185, 0.57052403,\n",
       "        0.58076945, 0.62434529],\n",
       "       [0.56694898, 0.58025299, 0.59097056, 0.62946352, 0.5639845 ,\n",
       "        0.59856208, 0.54553197],\n",
       "       [0.6071831 , 0.55381547, 0.57764395, 0.51180679, 0.59701241,\n",
       "        0.55175201, 0.55909555]])"
      ]
     },
     "execution_count": 5,
     "metadata": {},
     "output_type": "execute_result"
    }
   ],
   "source": [
    "# 数据标准化\n",
    "[m,n]=data2.shape\n",
    "data3=copy.deepcopy(data2)\n",
    "for j in range(0,n):\n",
    "    data3[:,j]=data2[:,j]/np.sqrt(sum(np.square(data2[:,j])))\n",
    "data3"
   ]
  },
  {
   "cell_type": "code",
   "execution_count": 8,
   "id": "f9ed5008",
   "metadata": {},
   "outputs": [
    {
     "data": {
      "text/plain": [
       "array([0.03777284, 0.03090712, 0.01971778, 0.08427819, 0.0247411 ,\n",
       "       0.0334341 , 0.05969646])"
      ]
     },
     "execution_count": 8,
     "metadata": {},
     "output_type": "execute_result"
    }
   ],
   "source": [
    "#计算信息熵\n",
    "A=np.average(data3, axis=0)\n",
    "S=np.std(data3, axis=0)\n",
    "V=S/A\n",
    "V"
   ]
  },
  {
   "cell_type": "code",
   "execution_count": 7,
   "id": "7402fba5",
   "metadata": {},
   "outputs": [
    {
     "name": "stdout",
     "output_type": "stream",
     "text": [
      "第1个风场百分制得分为：100.0\n",
      "第2个风场百分制得分为：99.95246423920769\n",
      "第3个风场百分制得分为：94.43627314352099\n"
     ]
    }
   ],
   "source": [
    "#计算权重和得分\n",
    "w=V/sum(V)\n",
    "#计算得分\n",
    "s=np.dot(data3,w)\n",
    "Score=100*s/max(s)\n",
    "for i in range(0,len(Score)):\n",
    "    print(f\"第{i+1}个风场百分制得分为：{Score[i]}\")  "
   ]
  }
 ],
 "metadata": {
  "kernelspec": {
   "display_name": "Python [conda env:d2l] *",
   "language": "python",
   "name": "conda-env-d2l-py"
  },
  "language_info": {
   "codemirror_mode": {
    "name": "ipython",
    "version": 3
   },
   "file_extension": ".py",
   "mimetype": "text/x-python",
   "name": "python",
   "nbconvert_exporter": "python",
   "pygments_lexer": "ipython3",
   "version": "3.8.12"
  }
 },
 "nbformat": 4,
 "nbformat_minor": 5
}
