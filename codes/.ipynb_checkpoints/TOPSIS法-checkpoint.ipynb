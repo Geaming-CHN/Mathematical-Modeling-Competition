{
 "cells": [
  {
   "cell_type": "markdown",
   "id": "803b5e83",
   "metadata": {},
   "source": [
    "# TOPSIS法\n",
    "\n",
    "TOPSIS算法是直接用来评价的，它也可以和赋权方法一起用。逼近理想解排序法(the technique for order preference by similarity to an ideal solution，TOPSIS)是一种通过比较样本值与理想值的距离实现综合评价的方法。\n",
    "\n",
    "逼近理想解排序法采用相对接近度来表征各个评价对象与参考点的距离。首先在空间确定出参考点，包括最优和最劣点，然后计算各个评价对象与参考点的距离，与最优点越近或与最劣点越远说明被评价对象的综合特性越好。"
   ]
  },
  {
   "cell_type": "markdown",
   "id": "ee2e1bea",
   "metadata": {},
   "source": [
    "## 案例分析\n",
    "还是用一篇高引EI核心期刊论文为例, 对投标者进行综合评价，实现家招标公司的招标项目决策。现有A、B、C、D四个投标者，招标公司对它们的总价、人力、方案、设备级别、公司级别、能力成熟度分别进行评价，觉得哪个投标者中标。数据表格如下：\n",
    "![image-20220125174206988](https://cdn.jsdelivr.net/gh/GEAMING-CHN/images/blogimg/%E6%9D%82%E9%A1%B9/image-20220125174206988.png)"
   ]
  },
  {
   "cell_type": "markdown",
   "id": "2f891b83",
   "metadata": {},
   "source": [
    "## 原理解析\n",
    "1. 数据标准化\n",
    "每个指标的数量级不一样，需要把他们化到同一个范围内比较。上一篇建模算法用到了最大最小值标准化方法。设有$m$个待评对象，$n$个评价指标，可以构成数据矩阵$X = (x_{ij})_{m\\times n}$\n",
    "\n",
    "    可得指标标准化后数据矩阵元素$x_{ij}^{\\prime}$\n",
    "    $$x_{ij}^{\\prime}=\\frac{x_ij}{\\sqrt{\\sum_{i=1}^m x_{ij}^2}}$$\n",
    "2. 得到加权重后的数据\n",
    "之前讲过层次分析法、熵权法、变异系数法，都是获取权重的方法，可以翻看之前的文章。先设得到的指标权重为$w_j$，可以得到加权重后的数据为$r_{ij}$\n",
    "    $$r_{ij}=w_jx_{ij}^{\\prime}$$\n",
    "3. 得到数据与最值之间的距离\n",
    "处理过后可以构成数据矩阵$R=(r_{ij})_{m\\times n}$\n",
    "定义每个指标即每列的最大值为$r_j^+$\n",
    "$$r_j^+=\\mathrm{max}(r_{1j},r_{2j},\\cdots,r_{nj})$$\n",
    "定义每个指标即每列的最小值为$r_j^-$\n",
    "$$r_j^-=\\mathrm{min}(r_{1j},r_{2j},\\cdots,r_{nj})$$\n",
    "定义第$i$个评价对象与最大值距离为$d_i^+$\n",
    "$$d_i^+=\\sqrt{\\sum^n_{j=1}(r_j^+-r_{ij})^2}$$\n",
    "定义第$i$个评价对象与最小值距离为$d_i^-$\n",
    "$$d_i^-=\\sqrt{\\sum^n_{j=1}(r_j^--r_{ij})^2}$$\n",
    "4. 计算评分\n",
    "$$Score_i=\\frac{d_i^-}{d_i^+-d_i^-}$$\n",
    "很明显$0\\leq Score \\leq 1$，且$S_i$越大$d_i^+$越小，即越接近最大值"
   ]
  },
  {
   "cell_type": "code",
   "execution_count": 2,
   "id": "80bb5586",
   "metadata": {},
   "outputs": [],
   "source": [
    "import copy\n",
    "import pandas as pd\n",
    "import numpy as np"
   ]
  },
  {
   "cell_type": "code",
   "execution_count": 3,
   "id": "ccba73d9",
   "metadata": {},
   "outputs": [
    {
     "data": {
      "text/html": [
       "<div>\n",
       "<style scoped>\n",
       "    .dataframe tbody tr th:only-of-type {\n",
       "        vertical-align: middle;\n",
       "    }\n",
       "\n",
       "    .dataframe tbody tr th {\n",
       "        vertical-align: top;\n",
       "    }\n",
       "\n",
       "    .dataframe thead th {\n",
       "        text-align: right;\n",
       "    }\n",
       "</style>\n",
       "<table border=\"1\" class=\"dataframe\">\n",
       "  <thead>\n",
       "    <tr style=\"text-align: right;\">\n",
       "      <th></th>\n",
       "      <th>单位</th>\n",
       "      <th>总价</th>\n",
       "      <th>人力</th>\n",
       "      <th>方案</th>\n",
       "      <th>设备级别</th>\n",
       "      <th>公司级别</th>\n",
       "      <th>能力成熟度</th>\n",
       "    </tr>\n",
       "  </thead>\n",
       "  <tbody>\n",
       "    <tr>\n",
       "      <th>0</th>\n",
       "      <td>A</td>\n",
       "      <td>220</td>\n",
       "      <td>6</td>\n",
       "      <td>30</td>\n",
       "      <td>10</td>\n",
       "      <td>10</td>\n",
       "      <td>5</td>\n",
       "    </tr>\n",
       "    <tr>\n",
       "      <th>1</th>\n",
       "      <td>B</td>\n",
       "      <td>190</td>\n",
       "      <td>8</td>\n",
       "      <td>25</td>\n",
       "      <td>9</td>\n",
       "      <td>8</td>\n",
       "      <td>3</td>\n",
       "    </tr>\n",
       "    <tr>\n",
       "      <th>2</th>\n",
       "      <td>C</td>\n",
       "      <td>180</td>\n",
       "      <td>8</td>\n",
       "      <td>28</td>\n",
       "      <td>7</td>\n",
       "      <td>7</td>\n",
       "      <td>4</td>\n",
       "    </tr>\n",
       "    <tr>\n",
       "      <th>3</th>\n",
       "      <td>D</td>\n",
       "      <td>170</td>\n",
       "      <td>7</td>\n",
       "      <td>23</td>\n",
       "      <td>8</td>\n",
       "      <td>7</td>\n",
       "      <td>2</td>\n",
       "    </tr>\n",
       "  </tbody>\n",
       "</table>\n",
       "</div>"
      ],
      "text/plain": [
       "  单位   总价  人力  方案  设备级别  公司级别  能力成熟度\n",
       "0  A  220   6  30    10    10      5\n",
       "1  B  190   8  25     9     8      3\n",
       "2  C  180   8  28     7     7      4\n",
       "3  D  170   7  23     8     7      2"
      ]
     },
     "execution_count": 3,
     "metadata": {},
     "output_type": "execute_result"
    }
   ],
   "source": [
    "data=pd.read_excel('TOPSIS.xlsx')\n",
    "data"
   ]
  },
  {
   "cell_type": "code",
   "execution_count": 4,
   "id": "29b19327",
   "metadata": {},
   "outputs": [
    {
     "data": {
      "text/plain": [
       "array([[0.57616108, 0.41111323, 0.56313829, 0.58321184, 0.61780206,\n",
       "        0.68041382],\n",
       "       [0.49759366, 0.54815097, 0.46928191, 0.52489066, 0.49424165,\n",
       "        0.40824829],\n",
       "       [0.47140452, 0.54815097, 0.52559574, 0.40824829, 0.43246144,\n",
       "        0.54433105],\n",
       "       [0.44521538, 0.4796321 , 0.43173936, 0.46656947, 0.43246144,\n",
       "        0.27216553]])"
      ]
     },
     "execution_count": 4,
     "metadata": {},
     "output_type": "execute_result"
    }
   ],
   "source": [
    "#数据标准化\n",
    "label_need=data.keys()[1:]\n",
    "data1=data[label_need].values\n",
    "data1=copy.deepcopy(data1)\n",
    "[m,n]=data1.shape\n",
    "data2=copy.deepcopy(data1).astype('float')\n",
    "for j in range(0,n):\n",
    "    data2[:,j]=data1[:,j]/np.sqrt(sum(np.square(data1[:,j])))\n",
    "data2"
   ]
  },
  {
   "cell_type": "code",
   "execution_count": 5,
   "id": "f8d84590",
   "metadata": {},
   "outputs": [
    {
     "data": {
      "text/plain": [
       "array([[0.21456239, 0.04123466, 0.11212083, 0.11611748, 0.06165665,\n",
       "        0.03300007],\n",
       "       [0.18530388, 0.05497954, 0.09343403, 0.10450573, 0.04932532,\n",
       "        0.01980004],\n",
       "       [0.17555104, 0.05497954, 0.10464611, 0.08128223, 0.04315965,\n",
       "        0.02640006],\n",
       "       [0.16579821, 0.0481071 , 0.08595931, 0.09289398, 0.04315965,\n",
       "        0.01320003]])"
      ]
     },
     "execution_count": 5,
     "metadata": {},
     "output_type": "execute_result"
    }
   ],
   "source": [
    "#得到加权重后的数据\n",
    "w=[0.3724, 0.1003,0.1991, 0.1991,0.0998,0.0485]\n",
    "R=data2*w\n",
    "R"
   ]
  },
  {
   "cell_type": "code",
   "execution_count": 8,
   "id": "33fc9597",
   "metadata": {},
   "outputs": [
    {
     "data": {
      "text/plain": [
       "array([0.07078167, 0.03530115, 0.02841614, 0.01349308])"
      ]
     },
     "execution_count": 8,
     "metadata": {},
     "output_type": "execute_result"
    }
   ],
   "source": [
    "# 得到最大值最小值距离\n",
    "r_max = np.max(R, axis=0)  # 每个指标的最大值\n",
    "r_min = np.min(R, axis=0)  # 每个指标的最小值\n",
    "d_z = np.sqrt(np.sum(np.square((R - np.tile(r_max, (m, 1)))), axis=1))  # d+向量\n",
    "d_f = np.sqrt(np.sum(np.square((R - np.tile(r_min, (m, 1)))), axis=1))  # d-向量\n",
    "#np.tile(a,(2,1))第一个参数为Y轴扩大倍数，第二个为X轴扩大倍数。本例中X轴扩大一倍便为不复制。\n",
    "#只有一个参数时认为X轴扩大倍数"
   ]
  },
  {
   "cell_type": "code",
   "execution_count": 9,
   "id": "313b79d7",
   "metadata": {},
   "outputs": [
    {
     "name": "stdout",
     "output_type": "stream",
     "text": [
      "第1个投标者百分制得分为：100.0\n",
      "第2个投标者百分制得分为：55.37930346488896\n",
      "第3个投标者百分制得分为：40.02590050373345\n",
      "第4个投标者百分制得分为：20.217857179290085\n"
     ]
    }
   ],
   "source": [
    "s=d_f/(d_z+d_f )\n",
    "Score=100*s/max(s)\n",
    "for i in range(0,len(Score)):\n",
    "    print(f\"第{i+1}个投标者百分制得分为：{Score[i]}\")  "
   ]
  }
 ],
 "metadata": {
  "kernelspec": {
   "display_name": "Python [conda env:d2l] *",
   "language": "python",
   "name": "conda-env-d2l-py"
  },
  "language_info": {
   "codemirror_mode": {
    "name": "ipython",
    "version": 3
   },
   "file_extension": ".py",
   "mimetype": "text/x-python",
   "name": "python",
   "nbconvert_exporter": "python",
   "pygments_lexer": "ipython3",
   "version": "3.8.12"
  }
 },
 "nbformat": 4,
 "nbformat_minor": 5
}
