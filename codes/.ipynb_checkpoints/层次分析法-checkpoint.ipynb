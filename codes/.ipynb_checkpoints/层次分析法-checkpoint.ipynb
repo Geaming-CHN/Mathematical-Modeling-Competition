{
 "cells": [
  {
   "cell_type": "markdown",
   "id": "fd19e201",
   "metadata": {},
   "source": [
    "# 层次分析法——用python挑男友\n",
    "在很多情况下，我们对事物评价，应该要多维度评价。多维度评价之后我们要如何把它们合并成一个指标用于比较事物的好坏呢，这时候需要对各个指标赋权，层次分析法就是用来赋权重的了。\n",
    "\n",
    "这个方法**主观性比较强**，在数据集比较小，实在不好比较的时候可以用这个方法，如果有别的选择还是尽量不要用这个算法比较好。可以看下往年的建模获奖论文和美赛获奖论文，此算法的出现频率还是挺高的，所以存在即有它存在的道理。"
   ]
  },
  {
   "cell_type": "markdown",
   "id": "c4ea56c4",
   "metadata": {},
   "source": [
    "## 实例\n",
    "小美要选男朋友了，现有小明、小李两个人选，到底该选谁呢？现在小美要从四个指标去选择，分别是身高、颜值、学历、性格。小美对他们各个指标的评分如下：\n",
    "\n",
    "|  指标   | 小明得分  |小李得分  |\n",
    "|  :----:  | :----: | :----: |\n",
    "|  身高 | 8 | 7 |\n",
    "|  颜值 | 7 | 8 |\n",
    "|  学历 | 6 | 8 |\n",
    "|  性格 | 8 | 7 |\n",
    "\n",
    "小美翻阅图书发现选择依据如下：\n",
    "\n",
    "|  标度   | 含义  |\n",
    "|  :----:  | :---- |\n",
    "| 1 | 表示两个因素相比，具有相同重要性 |\n",
    "| 3 | 表示两个因素相比，前者比后者稍重要|\n",
    "| 5 | 表示两个因素相比，前者比后者明显重要 |\n",
    "| 7 | 表示两个因素相比，前者比后者强烈重要 |\n",
    "| 9 | 表示两个因素相比，前者比后者极端重要 |\n",
    "| 2,4,6,8 | 表示上述相邻判断的中间值 |\n",
    "| 倒数 | 若因素i与因素j的重要性之比为$a_{ij}$，那么因素j与因素i重要性之比为$a_{ji}=1/a_{ij}$ |"
   ]
  },
  {
   "cell_type": "markdown",
   "id": "75af52bd",
   "metadata": {},
   "source": [
    "小美构造判断矩阵如下：\n",
    "<table>\n",
    "<tr>\n",
    "  <td>&nbsp;</td>\n",
    "  <th>身高</th>\n",
    "  <th>颜值</th>\n",
    "  <th>学历</th>\n",
    "  <th>性格</th>\n",
    "</tr>   \n",
    "<tr>\n",
    "  <th>身高</th>\n",
    "  <td>1</td>\n",
    "  <td>3</td>\n",
    "  <td>1</td>\n",
    "  <td>1/3</td>\n",
    "</tr>   \n",
    "<tr>\n",
    "  <th>颜值</th>\n",
    "  <td>1/3</td>\n",
    "  <td>1</td>\n",
    "  <td>1/2</td>\n",
    "  <td>1/5</td>\n",
    "</tr>\n",
    "<tr>\n",
    "  <th>学历</th>\n",
    "  <td>1</td>\n",
    "  <td>2</td>\n",
    "  <td>1</td>\n",
    "  <td>1/3</td>\n",
    "</tr>   \n",
    "<tr>\n",
    "  <th>性格</th>\n",
    "  <td>3</td>\n",
    "  <td>5</td>\n",
    "  <td>3</td>\n",
    "  <td>1</td>\n",
    "</tr>   \n",
    "</table>"
   ]
  },
  {
   "cell_type": "markdown",
   "id": "8c28d048",
   "metadata": {},
   "source": [
    "## 检验标准——一致性检验\n",
    "对判断矩阵的一致性检验的步骤如下：\n",
    "1. 计算一致性指标$CI$\n",
    "$$CI = \\frac{\\lambda_{max}-n}{n-1}$$\n",
    "2. 查找相应的平均随机一致性指标$RI$。对$n=1,\\cdots,9$，Saaty给出了$RI$的值\n",
    "![RI](https://img-blog.csdnimg.cn/20200422213128324.png#pic_center)\n",
    "3. 计算一致性比例$CR$\n",
    "$$CR = \\frac{CI}{RI}$$\n",
    "当$CR<0.10$时，认为判断矩阵的一致性是可以接受的，否则应对判断矩阵作适当修正。\n",
    "4. 可以得到最大特征值对应的特征向量$T$\n",
    "$$T = \\begin{bmatrix}t_1,t_2,\\cdots,t_n\\end{bmatrix}$$\n",
    "权重向量$W$\n",
    "$$w_i=\\frac{t_i}{\\sum^n_{i=1}t_i}$$\n",
    "$$W = \\begin{bmatrix}w_1,w_2,\\cdots,w_n\\end{bmatrix}$$\n",
    "5. 最后得分$S = 评分P \\times W$"
   ]
  },
  {
   "cell_type": "markdown",
   "id": "9129822a",
   "metadata": {},
   "source": [
    "## Python代码实现"
   ]
  },
  {
   "cell_type": "code",
   "execution_count": 2,
   "id": "f5b57fab",
   "metadata": {},
   "outputs": [
    {
     "data": {
      "text/plain": [
       "(tensor([[8., 7., 6., 8.],\n",
       "         [7., 8., 8., 7.]], dtype=torch.float64),\n",
       " tensor([[1.0000, 3.0000, 1.0000, 0.3333],\n",
       "         [0.3333, 1.0000, 0.5000, 0.2000],\n",
       "         [1.0000, 2.0000, 1.0000, 0.3333],\n",
       "         [3.0000, 5.0000, 3.0000, 1.0000]], dtype=torch.float64))"
      ]
     },
     "execution_count": 2,
     "metadata": {},
     "output_type": "execute_result"
    }
   ],
   "source": [
    "import torch\n",
    "# 每一行代表一个对象的指标评分\n",
    "P_lis = [[8, 7, 6, 8], [7, 8, 8, 7]]\n",
    "# 设定的判断矩阵\n",
    "Judge_Lis = [[1.0, 3, 1, 1.0/3], [1.0/3, 1, 1.0/2, 1.0/5],\n",
    "             [1, 2, 1, 1.0/3], [3, 5, 3, 1]]\n",
    "# list装换成tensor\n",
    "P = torch.tensor(P_lis).to(torch.float64)\n",
    "Judge = torch.tensor(Judge_Lis).to(torch.float64)\n",
    "P, Judge"
   ]
  },
  {
   "cell_type": "code",
   "execution_count": 6,
   "id": "1a9cab65",
   "metadata": {},
   "outputs": [
    {
     "data": {
      "text/plain": [
       "(tensor([ 4.0341e+00+0.0000j, -1.7069e-02+0.3707j, -1.7069e-02-0.3707j,\n",
       "         -8.9407e-09+0.0000j], dtype=torch.complex128),\n",
       " tensor([[-3.4059e-01+0.0000j, -3.0337e-01+0.3105j, -3.0337e-01-0.3105j,\n",
       "           1.7379e-01+0.0000j],\n",
       "         [-1.4545e-01+0.0000j, -7.8752e-02-0.1686j, -7.8752e-02+0.1686j,\n",
       "          -5.6971e-09+0.0000j],\n",
       "         [-3.0454e-01+0.0000j,  1.4082e-01+0.0776j,  1.4082e-01-0.0776j,\n",
       "          -4.6343e-01+0.0000j],\n",
       "         [-8.7755e-01+0.0000j,  8.6663e-01+0.0000j,  8.6663e-01+-0.0000j,\n",
       "           8.6893e-01+0.0000j]], dtype=torch.complex128))"
      ]
     },
     "execution_count": 6,
     "metadata": {},
     "output_type": "execute_result"
    }
   ],
   "source": [
    "n, m = Judge.shape\n",
    "# 判别矩阵的特征值，特征向量\n",
    "D, V = torch.linalg.eig(Judge)\n",
    "D, V"
   ]
  },
  {
   "cell_type": "code",
   "execution_count": 19,
   "id": "987b1d08",
   "metadata": {},
   "outputs": [
    {
     "data": {
      "text/plain": [
       "(tensor([ 4.0341e+00, -1.7069e-02, -1.7069e-02, -8.9407e-09],\n",
       "        dtype=torch.float64),\n",
       " tensor([[-3.4059e-01, -3.0337e-01, -3.0337e-01,  1.7379e-01],\n",
       "         [-1.4545e-01, -7.8752e-02, -7.8752e-02, -5.6971e-09],\n",
       "         [-3.0454e-01,  1.4082e-01,  1.4082e-01, -4.6343e-01],\n",
       "         [-8.7755e-01,  8.6663e-01,  8.6663e-01,  8.6893e-01]],\n",
       "        dtype=torch.float64))"
      ]
     },
     "execution_count": 19,
     "metadata": {},
     "output_type": "execute_result"
    }
   ],
   "source": [
    "# 转换成为float，才能进行比较大小\n",
    "D = D.to(torch.float64)\n",
    "V = V.to(torch.float64)\n",
    "D, V"
   ]
  },
  {
   "cell_type": "code",
   "execution_count": 34,
   "id": "baadb6be",
   "metadata": {},
   "outputs": [
    {
     "data": {
      "text/plain": [
       "tensor([[0.2042],\n",
       "        [0.0872],\n",
       "        [0.1826],\n",
       "        [0.5261]])"
      ]
     },
     "execution_count": 34,
     "metadata": {},
     "output_type": "execute_result"
    }
   ],
   "source": [
    "# 找出最大特征值的位置\n",
    "def find(D):\n",
    "    for i in range(D.shape[0]):\n",
    "        if (D[i] == max(D)):\n",
    "            return i\n",
    "        return -1\n",
    "\n",
    "\n",
    "# 找出最大特征值对应的特征向量tzx\n",
    "tzx = V[:, find(D)]\n",
    "# 权重值weight\n",
    "weight = torch.zeros(Judge.shape[0], 1)\n",
    "for i in range(Judge.shape[0]):\n",
    "    weight[i][0] = tzx[i]/sum(tzx)\n",
    "weight"
   ]
  },
  {
   "cell_type": "code",
   "execution_count": 53,
   "id": "edaa4f29",
   "metadata": {},
   "outputs": [
    {
     "data": {
      "text/plain": [
       "(tensor(0.0114, dtype=torch.float64), tensor(0.0126, dtype=torch.float64))"
      ]
     },
     "execution_count": 53,
     "metadata": {},
     "output_type": "execute_result"
    }
   ],
   "source": [
    "# 一致性检验\n",
    "CI = (max(D)-Judge.shape[0])/(Judge.shape[0]-1)\n",
    "RI = torch.tensor([0.0, 0, 0.58, 0.90, 1.12, 1.24, 1.32, 1.41, 1.45])\n",
    "CR = CI/RI[Judge.shape[0]-1]\n",
    "CI, CR\n",
    "# CR>=0.1则未通过一致性检验"
   ]
  },
  {
   "cell_type": "code",
   "execution_count": 50,
   "id": "68778d46",
   "metadata": {},
   "outputs": [
    {
     "data": {
      "text/plain": [
       "tensor([[7.5477],\n",
       "        [7.2698]])"
      ]
     },
     "execution_count": 50,
     "metadata": {},
     "output_type": "execute_result"
    }
   ],
   "source": [
    "# 计算得分score\n",
    "P = P.to(torch.float32)\n",
    "weight = weight.to(torch.float32)\n",
    "score = torch.mm(P, weight)\n",
    "score"
   ]
  }
 ],
 "metadata": {
  "kernelspec": {
   "display_name": "Python [conda env:d2l] *",
   "language": "python",
   "name": "conda-env-d2l-py"
  },
  "language_info": {
   "codemirror_mode": {
    "name": "ipython",
    "version": 3
   },
   "file_extension": ".py",
   "mimetype": "text/x-python",
   "name": "python",
   "nbconvert_exporter": "python",
   "pygments_lexer": "ipython3",
   "version": "3.8.12"
  }
 },
 "nbformat": 4,
 "nbformat_minor": 5
}
