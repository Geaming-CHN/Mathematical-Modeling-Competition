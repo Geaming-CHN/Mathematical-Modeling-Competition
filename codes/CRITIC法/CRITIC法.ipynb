{
 "cells": [
  {
   "cell_type": "markdown",
   "id": "52cc8871",
   "metadata": {},
   "source": [
    "# CRITIC法\n",
    "## 算法简介\n",
    "该算法也是用来赋权重的一种方法。CRITIC 是Diakoulaki（1995）提出一种评价指标客观赋权方法。该方法在对指标进行权重计算时围绕两个方面进行：对比度和矛盾性。"
   ]
  },
  {
   "cell_type": "markdown",
   "id": "588a6595",
   "metadata": {},
   "source": [
    "## 案例分析\n",
    "还是用一篇高引用论文为例,针对对不同银行的指标进行银行评价。现有中信、光大、浦发、招商四个银行。对它们的资产收益率、费用利润率、逾期贷款率、资产使用、自有资本率分别进行评价。数据表格如下：\n",
    "![image-20220129133819170](https://cdn.jsdelivr.net/gh/GEAMING-CHN/images/blogimg/%E6%9D%82%E9%A1%B9/image-20220129133819170.png)"
   ]
  },
  {
   "cell_type": "markdown",
   "id": "8ebe9abb",
   "metadata": {},
   "source": [
    "## 原理分析\n",
    "1. 数据标准化\n",
    "    每个指标的数量级不一样，需要把它们化到同一个范围内比较。指标也都需要正向化。此篇把正向化和标准化结合。\n",
    "    \n",
    "    设有$m$个待评对象，$n$个评价指标，可以构成数据矩阵$X=(x_{ij})_{m\\times n}$\n",
    "    \n",
    "    设标准化后的数据矩阵元素为$x_{ij}^{\\prime}$\n",
    "    \n",
    "    若$x_j$为负向指标（越小越优型指标），数据表格中的逾期贷款率属于此类指标。\n",
    "    $$x_{ij}^{\\prime}=\\frac{\\mathrm{max}(x_j)-x_{ij}}{\\mathrm{max}(x_j)-\\mathrm{min}(x_j)}$$\n",
    "    若$x_j$为正向指标（越大越优型指标），数据表格中其余所有指标属于此类指标。\n",
    "    $$x_{ij}^{\\prime}=\\frac{x_{ij}-\\mathrm{min}(x_j)}{\\mathrm{max}(x_j)-\\mathrm{min}(x_j)}$$    \n",
    "    \n",
    "2. 信息承载量计算\n",
    "    \n",
    "    CRITIC法对指标进行权重计算时围绕两个方面进行：对比度和矛盾性\n",
    "    - 对比性\n",
    "        \n",
    "        用标准差$\\sigma_j$表示$j$项指标的对比性\n",
    "        \n",
    "        $\\sigma_j=\\sqrt{\\frac{\\sum_{i=1}^m\\ (x_{ij}^{\\prime}-\\overline{x_j^{\\prime}})}{m-1}}$\n",
    "        \n",
    "    - 矛盾性\n",
    "        \n",
    "        矛盾性反映的是不同指标之间的相关程度，若呈现显著正相关性，则矛盾性数值越小。设指标$j$与其余指标矛盾性的大小为$f_j$\n",
    "        $$f_j=\\sum_{i=1}^{m}(1-r_{ij})$$\n",
    "        $r_{ij}$表示指标$i$与指标$j$之间的相关系数，在此使用的是皮尔逊相关系数，此为线性相关系数。    \n",
    "    \n",
    "    - 信息承载量\n",
    "        设指标$j$与信息承载量为$C_j$\n",
    "        $$C_j=\\sigma_jf_j$$\n",
    "3. 权重计算\n",
    "\n",
    "    信息承载量越大可认为权重越大\n",
    "    $$w_j=\\frac{C_j}{\\sum_{j=1}^nC_j}$$\n",
    "    计算得分\n",
    "    $$S_i=\\sum_{j=1}^nw_jx_{ij}^{\\prime}$$"
   ]
  },
  {
   "cell_type": "code",
   "execution_count": 1,
   "id": "2331bef7",
   "metadata": {},
   "outputs": [],
   "source": [
    "import copy\n",
    "import pandas as pd\n",
    "import numpy as np"
   ]
  },
  {
   "cell_type": "code",
   "execution_count": 2,
   "id": "d1099dce",
   "metadata": {},
   "outputs": [
    {
     "data": {
      "text/html": [
       "<div>\n",
       "<style scoped>\n",
       "    .dataframe tbody tr th:only-of-type {\n",
       "        vertical-align: middle;\n",
       "    }\n",
       "\n",
       "    .dataframe tbody tr th {\n",
       "        vertical-align: top;\n",
       "    }\n",
       "\n",
       "    .dataframe thead th {\n",
       "        text-align: right;\n",
       "    }\n",
       "</style>\n",
       "<table border=\"1\" class=\"dataframe\">\n",
       "  <thead>\n",
       "    <tr style=\"text-align: right;\">\n",
       "      <th></th>\n",
       "      <th>银行</th>\n",
       "      <th>资产收益率</th>\n",
       "      <th>费用利润率</th>\n",
       "      <th>逾期贷款率</th>\n",
       "      <th>资产使用</th>\n",
       "      <th>自有资本率</th>\n",
       "    </tr>\n",
       "  </thead>\n",
       "  <tbody>\n",
       "    <tr>\n",
       "      <th>0</th>\n",
       "      <td>中信</td>\n",
       "      <td>0.4830</td>\n",
       "      <td>13.2682</td>\n",
       "      <td>0.0000</td>\n",
       "      <td>4.3646</td>\n",
       "      <td>5.1070</td>\n",
       "    </tr>\n",
       "    <tr>\n",
       "      <th>1</th>\n",
       "      <td>光大</td>\n",
       "      <td>0.4035</td>\n",
       "      <td>13.4909</td>\n",
       "      <td>39.0131</td>\n",
       "      <td>3.6151</td>\n",
       "      <td>5.5005</td>\n",
       "    </tr>\n",
       "    <tr>\n",
       "      <th>2</th>\n",
       "      <td>浦发</td>\n",
       "      <td>0.8979</td>\n",
       "      <td>25.7776</td>\n",
       "      <td>9.0513</td>\n",
       "      <td>4.8920</td>\n",
       "      <td>7.5342</td>\n",
       "    </tr>\n",
       "    <tr>\n",
       "      <th>3</th>\n",
       "      <td>招商</td>\n",
       "      <td>0.5927</td>\n",
       "      <td>16.0245</td>\n",
       "      <td>13.2935</td>\n",
       "      <td>4.4529</td>\n",
       "      <td>6.5913</td>\n",
       "    </tr>\n",
       "  </tbody>\n",
       "</table>\n",
       "</div>"
      ],
      "text/plain": [
       "   银行   资产收益率    费用利润率    逾期贷款率    资产使用   自有资本率\n",
       "0  中信  0.4830  13.2682   0.0000  4.3646  5.1070\n",
       "1  光大  0.4035  13.4909  39.0131  3.6151  5.5005\n",
       "2  浦发  0.8979  25.7776   9.0513  4.8920  7.5342\n",
       "3  招商  0.5927  16.0245  13.2935  4.4529  6.5913"
      ]
     },
     "execution_count": 2,
     "metadata": {},
     "output_type": "execute_result"
    }
   ],
   "source": [
    "data=pd.read_excel('银行数据.xlsx')\n",
    "data"
   ]
  },
  {
   "cell_type": "code",
   "execution_count": 3,
   "id": "2a2c3df9",
   "metadata": {},
   "outputs": [
    {
     "data": {
      "text/plain": [
       "array([[0.16080097, 0.        , 1.        , 0.58696844, 0.        ],\n",
       "       [0.        , 0.01780261, 0.        , 0.        , 0.16212096],\n",
       "       [1.        , 1.        , 0.76799332, 1.        , 1.        ],\n",
       "       [0.38268608, 0.22033831, 0.65925548, 0.65612029, 0.61152769]])"
      ]
     },
     "execution_count": 3,
     "metadata": {},
     "output_type": "execute_result"
    }
   ],
   "source": [
    "#数据标准正向化处理\n",
    "label_need=data.keys()[1:]\n",
    "data1=data[label_need].values\n",
    "data2=copy.deepcopy(data1)\n",
    "[m,n]=data2.shape\n",
    "index_all=np.arange(n)\n",
    "index=[2] #负向指标位置,注意python是从0开始计数，对应位置也要相应减1\n",
    "for j in index:\n",
    "    d_max=max(data1[:,j])\n",
    "    d_min=min(data1[:,j])\n",
    "    data2[:,j]=(d_max-data1[:,j])/(d_max-d_min)\n",
    "#正向指标位置    \n",
    "index=np.delete(index_all,index) \n",
    "for j in index:\n",
    "    d_max=max(data1[:,j])\n",
    "    d_min=min(data1[:,j])\n",
    "    data2[:,j]=(data1[:,j]-d_min)/(d_max-d_min)\n",
    "data2"
   ]
  },
  {
   "cell_type": "code",
   "execution_count": 4,
   "id": "5e3d9fdb",
   "metadata": {},
   "outputs": [],
   "source": [
    "#信息承载量计算\n",
    "#对比性\n",
    "the=np.std(data2,axis=0)\n",
    "data3=copy.deepcopy(data2)\n",
    "#矛盾性\n",
    "data3=list(map(list,zip(*data2))) #矩阵转置\n",
    "r=np.corrcoef(data3)   #求皮尔逊相关系数\n",
    "f=np.sum(1-r,axis=1)\n",
    "#信息承载量\n",
    "c=the*f"
   ]
  },
  {
   "cell_type": "code",
   "execution_count": 5,
   "id": "f9116168",
   "metadata": {},
   "outputs": [
    {
     "name": "stdout",
     "output_type": "stream",
     "text": [
      "中信银行百分制评分为：49.70763422811035\n",
      "光大银行百分制评分为：4.025015628082672\n",
      "浦发银行百分制评分为：100.0\n",
      "招商银行百分制评分为：58.409900390756505\n"
     ]
    }
   ],
   "source": [
    "#计算得分\n",
    "w=c/sum(c)  #计算权重\n",
    "s=np.dot(data2,w)\n",
    "Score=100*s/max(s) #计算得分\n",
    "for i in range(0,len(Score)):\n",
    "    print(f\"{data['银行'][i]}银行百分制评分为:{Score[i]}\")  "
   ]
  }
 ],
 "metadata": {
  "kernelspec": {
   "display_name": "Python [conda env:d2l] *",
   "language": "python",
   "name": "conda-env-d2l-py"
  },
  "language_info": {
   "codemirror_mode": {
    "name": "ipython",
    "version": 3
   },
   "file_extension": ".py",
   "mimetype": "text/x-python",
   "name": "python",
   "nbconvert_exporter": "python",
   "pygments_lexer": "ipython3",
   "version": "3.8.12"
  }
 },
 "nbformat": 4,
 "nbformat_minor": 5
}
