{
 "cells": [
  {
   "cell_type": "markdown",
   "metadata": {},
   "source": [
    "# 主成分分析法\n",
    "## 算法简介\n",
    "\n",
    "主成分分析法最常用于降维也可以用来综合评价，此篇主要介绍用主成分分析法用于综合评价。主成分分析综合评价法是从原始数据所给定的信息直接确定权重，进而进行评价的方法。在进行主成分分析时，所取权重直接为对应主成分的方差贡献率，某个主成分在综合评价时所能反映的信息越多，相应的权重也就越大。\n",
    "\n",
    "有文献也指出，运用主成分分析法赋权重应该注意一些问题。主成分分析综合评价的应用条件是: 指标是正向、标准化的，主成分载荷阵达到更好的简单结构，主成分正向，主成分与变量显著相关。\n",
    "\n",
    "## 案例分析\n",
    "\n",
    "还是用一篇高引用论文为例,对不同的火电机组进行评价。现有1~5号机组，对它们的指标1（可靠性），指标2（经济性），指标3（技术性），指标4（运行性）进行综合评价。数据表格如下：\n",
    "<table>\n",
    "    <tr>\n",
    "    <th>机组编号</th>\n",
    "    <th>指标1</th>\n",
    "    <th>指标2</th>\n",
    "    <th>指标3</th>\n",
    "    <th>指标4</th>\n",
    "    </tr>\n",
    "    <tr>\n",
    "    <th>1号机组</th>\n",
    "    <td>0.2583</td>\n",
    "    <td>0.1992</td>\n",
    "    <td>0.4319</td>\n",
    "    <td>0.3147</td>\n",
    "    </tr>\n",
    "    <tr>\n",
    "    <th>2号机组</th>\n",
    "    <td>0.39</td>\n",
    "    <td>0.6203</td>\n",
    "    <td>0.6013</td>\n",
    "    <td>0.3914</td>\n",
    "    </tr>\n",
    "    <tr>\n",
    "    <th>3号机组</th>\n",
    "    <td>0.2783</td>\n",
    "    <td>0.3006</td>\n",
    "    <td>0.3416</td>\n",
    "    <td>0.1033</td>\n",
    "    </tr>\n",
    "    <tr>\n",
    "    <th>4号机组</th>\n",
    "    <td>0.4055</td>\n",
    "    <td>0.6492</td>\n",
    "    <td>0.7649</td>\n",
    "    <td>0.2321</td>\n",
    "    </tr>\n",
    "    <tr>\n",
    "    <th>5号机组</th>\n",
    "    <td>0.501</td>\n",
    "    <td>0.7291</td>\n",
    "    <td>0.6392</td>\n",
    "    <td>0.4108</td>\n",
    "    </tr>\n",
    "</table>"
   ]
  },
  {
   "cell_type": "markdown",
   "metadata": {},
   "source": [
    "## 原理分析\n",
    "\n",
    "1. 数据标准化和正向化\n",
    "   \n",
    "   标准化可采用"
   ]
  },
  {
   "cell_type": "code",
   "execution_count": null,
   "metadata": {},
   "outputs": [],
   "source": []
  }
 ],
 "metadata": {
  "interpreter": {
   "hash": "8db3f983fda6c44390f2211f427b1fcda9b4f92bb62c5e85c9faf6b8cb3c7d31"
  },
  "kernelspec": {
   "display_name": "Python 3.8.12 64-bit ('d2l': conda)",
   "language": "python",
   "name": "python3"
  },
  "language_info": {
   "name": "python",
   "version": "3.8.12"
  },
  "orig_nbformat": 4
 },
 "nbformat": 4,
 "nbformat_minor": 2
}
